{
 "cells": [
  {
   "cell_type": "markdown",
   "id": "fe1530ba-14c6-4344-abb5-339ae310e03f",
   "metadata": {},
   "source": [
    "# Answer to assignment"
   ]
  },
  {
   "cell_type": "markdown",
   "id": "dc6c2aa7-696a-4d41-8b67-38326e763ef3",
   "metadata": {},
   "source": [
    "## Problem(unicode): Understanding Unicode"
   ]
  },
  {
   "cell_type": "markdown",
   "id": "d9f9ecd3-53b7-4c18-9235-23c845fc5629",
   "metadata": {},
   "source": [
    "### (a) What Unicode character does chr(0) return?"
   ]
  },
  {
   "cell_type": "markdown",
   "id": "65d22d48-462a-4938-87b1-5631f78dc846",
   "metadata": {},
   "source": [
    "null\\\n",
    "null is not equal to ''.\\\n",
    "len('') is 1, but len(chr(0)) is 0."
   ]
  },
  {
   "cell_type": "markdown",
   "id": "86864aab-b5f6-4aaa-99f6-c6417c128962",
   "metadata": {},
   "source": [
    "### (b) How does this character's string repesentation(\\__repr__()) differ from its printed representation?"
   ]
  },
  {
   "cell_type": "code",
   "execution_count": 1,
   "id": "bdee4c84",
   "metadata": {},
   "outputs": [
    {
     "name": "stdout",
     "output_type": "stream",
     "text": [
      "'\\x00'\n",
      "\u0000\n"
     ]
    }
   ],
   "source": [
    "print(chr(0).__repr__())\n",
    "print(chr(0))"
   ]
  },
  {
   "cell_type": "markdown",
   "id": "87d21f77",
   "metadata": {},
   "source": [
    "### (c) What happens when this character occurs in text? It may be helpful to play around with the following in you Python interpreter and see if it matches your expectations:\n",
    "\\>> chr(0)\\\n",
    "\\>> print(chr(0))\\\n",
    "\\>> \"\"This is a test\" + chr(0) + \"string\"\\\n",
    "\\>> print(\"This is a test\" + chr(0) + \"string\")"
   ]
  },
  {
   "cell_type": "code",
   "execution_count": 2,
   "id": "061a574b",
   "metadata": {},
   "outputs": [
    {
     "name": "stdout",
     "output_type": "stream",
     "text": [
      "\u0000\n",
      "This is a test\u0000string\n"
     ]
    }
   ],
   "source": [
    "chr(0)\n",
    "print(chr(0))\n",
    "\"This is a test\" + chr(0) + \"string\"\n",
    "print(\"This is a test\" + chr(0) + \"string\")"
   ]
  },
  {
   "cell_type": "markdown",
   "id": "71565721",
   "metadata": {},
   "source": [
    "## Problem(unicode2): unicode Encodings"
   ]
  },
  {
   "cell_type": "markdown",
   "id": "327a24a6",
   "metadata": {},
   "source": [
    "### (a)What are some reasons to prefer training our tokenizer on UTF-8 encoded bytes, rather than UTF-16 or UTF-32? It may be helpful to compare the output of these encodings for various input strings"
   ]
  },
  {
   "cell_type": "code",
   "execution_count": 7,
   "id": "39473e05",
   "metadata": {},
   "outputs": [
    {
     "name": "stdout",
     "output_type": "stream",
     "text": [
      "utf-8: b'abcd\\xe4\\xbd\\xa0\\xe5\\xa5\\xbd\\xe5\\x95\\x8a'\n",
      "utf-16: b'\\xff\\xfea\\x00b\\x00c\\x00d\\x00`O}YJU'\n"
     ]
    }
   ],
   "source": [
    "s = \"abcd你好啊\"\n",
    "utf8_encoded = s.encode(\"utf-8\")\n",
    "print(f\"utf-8: {utf8_encoded}\")\n",
    "utf16_encoded = s.encode(\"utf-16\")\n",
    "print(f\"utf-16: {utf16_encoded}\")"
   ]
  },
  {
   "cell_type": "markdown",
   "id": "04cd8eb8",
   "metadata": {},
   "source": [
    "If using utf-8, english letter is as the same as unicode."
   ]
  },
  {
   "cell_type": "markdown",
   "id": "a3d750ad",
   "metadata": {},
   "source": [
    "### (b) consider the following (incorrect) function, which is intended to decode a UTF-8 byte string into a Unicode string. Why is this function incorrect? Provide an example of an input byte string that yields incorrect results.\n",
    "```python\n",
    "def decode_utf8_bytes_to_str_wrong(bytestring: bytes):\n",
    "return \"\".join([bytes([b]).decode(\"utf-8\") for b in bytestring])\n",
    "\\>>> decode_utf8_bytes_to_str_wrong(\"hello\".encode(\"utf-8\"))\n",
    "'hello'\n",
    "```"
   ]
  },
  {
   "cell_type": "code",
   "execution_count": 8,
   "id": "ef9a7d0f",
   "metadata": {},
   "outputs": [],
   "source": [
    "def decode_utf8_bytes_to_str_wrong(bytestring: bytes):\n",
    "    return \"\".join([bytes([b]).decode(\"utf-8\") for b in bytestring])"
   ]
  },
  {
   "cell_type": "code",
   "execution_count": 10,
   "id": "5ebef64d",
   "metadata": {},
   "outputs": [
    {
     "ename": "UnicodeDecodeError",
     "evalue": "'utf-8' codec can't decode byte 0xe4 in position 0: unexpected end of data",
     "output_type": "error",
     "traceback": [
      "\u001b[31m---------------------------------------------------------------------------\u001b[39m",
      "\u001b[31mUnicodeDecodeError\u001b[39m                        Traceback (most recent call last)",
      "\u001b[36mCell\u001b[39m\u001b[36m \u001b[39m\u001b[32mIn[10]\u001b[39m\u001b[32m, line 1\u001b[39m\n\u001b[32m----> \u001b[39m\u001b[32m1\u001b[39m decode_utf8_bytes_to_str_wrong(\u001b[33m\"\u001b[39m\u001b[33m中\u001b[39m\u001b[33m\"\u001b[39m.encode(\u001b[33m\"\u001b[39m\u001b[33mutf-8\u001b[39m\u001b[33m\"\u001b[39m))\n",
      "\u001b[36mCell\u001b[39m\u001b[36m \u001b[39m\u001b[32mIn[8]\u001b[39m\u001b[32m, line 2\u001b[39m, in \u001b[36mdecode_utf8_bytes_to_str_wrong\u001b[39m\u001b[34m(bytestring)\u001b[39m\n\u001b[32m      1\u001b[39m \u001b[38;5;28;01mdef\u001b[39;00m\u001b[38;5;250m \u001b[39m\u001b[34mdecode_utf8_bytes_to_str_wrong\u001b[39m(bytestring: \u001b[38;5;28mbytes\u001b[39m):\n\u001b[32m----> \u001b[39m\u001b[32m2\u001b[39m     \u001b[38;5;28;01mreturn\u001b[39;00m \u001b[33m\"\u001b[39m\u001b[33m\"\u001b[39m.join([\u001b[38;5;28mbytes\u001b[39m([b]).decode(\u001b[33m\"\u001b[39m\u001b[33mutf-8\u001b[39m\u001b[33m\"\u001b[39m) \u001b[38;5;28;01mfor\u001b[39;00m b \u001b[38;5;129;01min\u001b[39;00m bytestring])\n",
      "\u001b[31mUnicodeDecodeError\u001b[39m: 'utf-8' codec can't decode byte 0xe4 in position 0: unexpected end of data"
     ]
    }
   ],
   "source": [
    "decode_utf8_bytes_to_str_wrong(\"中\".encode(\"utf-8\"))"
   ]
  },
  {
   "cell_type": "markdown",
   "id": "870dbcc1",
   "metadata": {},
   "source": [
    "The reason is that utf-8 is not a fixed length\\\n",
    "mandarin character is not a byte, maybe more or less bytes"
   ]
  },
  {
   "cell_type": "markdown",
   "id": "bbb04483",
   "metadata": {},
   "source": [
    "### (c) Give a two byte sequence that does not decode to any Unicode character(s)."
   ]
  },
  {
   "cell_type": "code",
   "execution_count": 15,
   "id": "7cca75b1",
   "metadata": {},
   "outputs": [
    {
     "ename": "UnicodeDecodeError",
     "evalue": "'utf-8' codec can't decode bytes in position 0-1: unexpected end of data",
     "output_type": "error",
     "traceback": [
      "\u001b[31m---------------------------------------------------------------------------\u001b[39m",
      "\u001b[31mUnicodeDecodeError\u001b[39m                        Traceback (most recent call last)",
      "\u001b[36mCell\u001b[39m\u001b[36m \u001b[39m\u001b[32mIn[15]\u001b[39m\u001b[32m, line 1\u001b[39m\n\u001b[32m----> \u001b[39m\u001b[32m1\u001b[39m \u001b[38;5;28mprint\u001b[39m(\u001b[33mb\u001b[39m\u001b[33m'\u001b[39m\u001b[38;5;130;01m\\xe4\u001b[39;00m\u001b[38;5;130;01m\\xad\u001b[39;00m\u001b[33m'\u001b[39m.decode(\u001b[33m\"\u001b[39m\u001b[33mutf-8\u001b[39m\u001b[33m\"\u001b[39m))\n",
      "\u001b[31mUnicodeDecodeError\u001b[39m: 'utf-8' codec can't decode bytes in position 0-1: unexpected end of data"
     ]
    }
   ],
   "source": [
    "print(b'\\xe4\\xad'.decode(\"utf-8\"))"
   ]
  },
  {
   "cell_type": "markdown",
   "id": "3fb55542",
   "metadata": {},
   "source": []
  },
  {
   "cell_type": "markdown",
   "id": "56e8a8a2",
   "metadata": {},
   "source": []
  }
 ],
 "metadata": {
  "kernelspec": {
   "display_name": "jupyter",
   "language": "python",
   "name": "python3"
  },
  "language_info": {
   "codemirror_mode": {
    "name": "ipython",
    "version": 3
   },
   "file_extension": ".py",
   "mimetype": "text/x-python",
   "name": "python",
   "nbconvert_exporter": "python",
   "pygments_lexer": "ipython3",
   "version": "3.13.5"
  }
 },
 "nbformat": 4,
 "nbformat_minor": 5
}
